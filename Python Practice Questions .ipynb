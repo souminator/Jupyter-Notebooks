{
 "cells": [
  {
   "cell_type": "markdown",
   "metadata": {},
   "source": [
    "# Python Practice Questions"
   ]
  },
  {
   "cell_type": "markdown",
   "metadata": {},
   "source": [
    "### Question 1"
   ]
  },
  {
   "cell_type": "markdown",
   "metadata": {},
   "source": [
    "Use an IPython built-in magic command to return the current working directory path"
   ]
  },
  {
   "cell_type": "code",
   "execution_count": 2,
   "metadata": {},
   "outputs": [
    {
     "data": {
      "text/plain": [
       "'/Users/souminator'"
      ]
     },
     "execution_count": 2,
     "metadata": {},
     "output_type": "execute_result"
    }
   ],
   "source": [
    "%pwd"
   ]
  },
  {
   "cell_type": "markdown",
   "metadata": {},
   "source": [
    "### Question 2"
   ]
  },
  {
   "cell_type": "markdown",
   "metadata": {},
   "source": [
    "Create a for loop to update the dictionary by_length which groups the words in the list word_samples by the length of words. The keys in by_length are the lengths of words."
   ]
  },
  {
   "cell_type": "code",
   "execution_count": 20,
   "metadata": {},
   "outputs": [],
   "source": [
    "word_samples = ['chalk', 'awk', 'pear', 'algebra', 'tie', 'nut', 'physics', 'magnolia', 'sycamore']\n",
    "by_length = {}"
   ]
  },
  {
   "cell_type": "code",
   "execution_count": 21,
   "metadata": {},
   "outputs": [
    {
     "data": {
      "text/plain": [
       "{5: ['chalk'],\n",
       " 3: ['awk', 'tie', 'nut'],\n",
       " 4: ['pear'],\n",
       " 7: ['algebra', 'physics'],\n",
       " 8: ['magnolia', 'sycamore']}"
      ]
     },
     "execution_count": 21,
     "metadata": {},
     "output_type": "execute_result"
    }
   ],
   "source": [
    "for i in word_samples:\n",
    "    by_length.setdefault(len(i),[]).append(i)\n",
    "by_length\n",
    "    "
   ]
  },
  {
   "cell_type": "markdown",
   "metadata": {},
   "source": [
    "### Question 3"
   ]
  },
  {
   "cell_type": "markdown",
   "metadata": {},
   "source": [
    "Use the map and lambda functions to create a list numbers_sq which contains the squared value of each element in the list numbers "
   ]
  },
  {
   "cell_type": "code",
   "execution_count": 5,
   "metadata": {},
   "outputs": [],
   "source": [
    "numbers = [1, 2, 3, 4]"
   ]
  },
  {
   "cell_type": "code",
   "execution_count": 9,
   "metadata": {},
   "outputs": [
    {
     "name": "stdout",
     "output_type": "stream",
     "text": [
      "[1, 4, 9, 16]\n"
     ]
    }
   ],
   "source": [
    "numbers_sq = list(map(lambda x : x**2,numbers))\n",
    "print (numbers_sq)"
   ]
  },
  {
   "cell_type": "markdown",
   "metadata": {},
   "source": [
    "### Question 4"
   ]
  },
  {
   "cell_type": "markdown",
   "metadata": {},
   "source": [
    "Select every other element from list1 starting from the element with index = 1."
   ]
  },
  {
   "cell_type": "code",
   "execution_count": 15,
   "metadata": {},
   "outputs": [
    {
     "data": {
      "text/plain": [
       "array([6, 3, 7, 4, 6, 9, 2, 6, 7, 4, 3, 7, 7, 2, 5, 4, 1, 7, 5, 1])"
      ]
     },
     "execution_count": 15,
     "metadata": {},
     "output_type": "execute_result"
    }
   ],
   "source": [
    "import numpy as np\n",
    "np.random.seed(42)\n",
    "list1 = np.random.randint(0,10,20)\n",
    "list1"
   ]
  },
  {
   "cell_type": "code",
   "execution_count": 24,
   "metadata": {},
   "outputs": [
    {
     "name": "stdout",
     "output_type": "stream",
     "text": [
      "6,3,7,4,6,9,2,6,7,4,3,7,7,2,5,4,1,7,5,1,"
     ]
    }
   ],
   "source": [
    "for i in list1:\n",
    "    print (i,end=\",\") ;\n",
    "    "
   ]
  },
  {
   "cell_type": "markdown",
   "metadata": {},
   "source": [
    "### Question 5"
   ]
  },
  {
   "cell_type": "markdown",
   "metadata": {},
   "source": [
    "Rename the columns 0, 1, and 2 in the Dataframe df0 to \"apple\", \"banana\", and \"orange\" respectively"
   ]
  },
  {
   "cell_type": "code",
   "execution_count": 25,
   "metadata": {},
   "outputs": [
    {
     "data": {
      "text/html": [
       "<div>\n",
       "<style scoped>\n",
       "    .dataframe tbody tr th:only-of-type {\n",
       "        vertical-align: middle;\n",
       "    }\n",
       "\n",
       "    .dataframe tbody tr th {\n",
       "        vertical-align: top;\n",
       "    }\n",
       "\n",
       "    .dataframe thead th {\n",
       "        text-align: right;\n",
       "    }\n",
       "</style>\n",
       "<table border=\"1\" class=\"dataframe\">\n",
       "  <thead>\n",
       "    <tr style=\"text-align: right;\">\n",
       "      <th></th>\n",
       "      <th>0</th>\n",
       "      <th>1</th>\n",
       "      <th>2</th>\n",
       "    </tr>\n",
       "  </thead>\n",
       "  <tbody>\n",
       "    <tr>\n",
       "      <td>0</td>\n",
       "      <td>3</td>\n",
       "      <td>4</td>\n",
       "      <td>2</td>\n",
       "    </tr>\n",
       "    <tr>\n",
       "      <td>1</td>\n",
       "      <td>4</td>\n",
       "      <td>4</td>\n",
       "      <td>1</td>\n",
       "    </tr>\n",
       "    <tr>\n",
       "      <td>2</td>\n",
       "      <td>2</td>\n",
       "      <td>2</td>\n",
       "      <td>2</td>\n",
       "    </tr>\n",
       "    <tr>\n",
       "      <td>3</td>\n",
       "      <td>4</td>\n",
       "      <td>3</td>\n",
       "      <td>2</td>\n",
       "    </tr>\n",
       "    <tr>\n",
       "      <td>4</td>\n",
       "      <td>4</td>\n",
       "      <td>1</td>\n",
       "      <td>3</td>\n",
       "    </tr>\n",
       "  </tbody>\n",
       "</table>\n",
       "</div>"
      ],
      "text/plain": [
       "   0  1  2\n",
       "0  3  4  2\n",
       "1  4  4  1\n",
       "2  2  2  2\n",
       "3  4  3  2\n",
       "4  4  1  3"
      ]
     },
     "execution_count": 25,
     "metadata": {},
     "output_type": "execute_result"
    }
   ],
   "source": [
    "import pandas as pd, numpy as np\n",
    "np.random.seed(42)\n",
    "df0 = pd.DataFrame(np.random.randint(low=0, high=5, size=(5, 3)))\n",
    "df0"
   ]
  },
  {
   "cell_type": "code",
   "execution_count": 27,
   "metadata": {},
   "outputs": [
    {
     "name": "stdout",
     "output_type": "stream",
     "text": [
      "   apple  banana  orange\n",
      "0      3       4       2\n",
      "1      4       4       1\n",
      "2      2       2       2\n",
      "3      4       3       2\n",
      "4      4       1       3\n"
     ]
    }
   ],
   "source": [
    "df0.columns = [\"apple\",\"banana\",\"orange\"]\n",
    "print (df0)"
   ]
  },
  {
   "cell_type": "code",
   "execution_count": 31,
   "metadata": {},
   "outputs": [
    {
     "name": "stdout",
     "output_type": "stream",
     "text": [
      "Index(['apple', 'banana', 'orange'], dtype='object')\n"
     ]
    }
   ],
   "source": [
    "#second method\n",
    "\n",
    "df0.rename(columns = {'0':\"apple\",'1':\"banana\",'2':\"orange\"},inplace = True)\n",
    "print (df0.columns)"
   ]
  },
  {
   "cell_type": "markdown",
   "metadata": {},
   "source": [
    "### Question 6"
   ]
  },
  {
   "cell_type": "markdown",
   "metadata": {},
   "source": [
    "Identify names of columns in the Dataframe df1 which have missing values"
   ]
  },
  {
   "cell_type": "code",
   "execution_count": 32,
   "metadata": {},
   "outputs": [
    {
     "data": {
      "text/html": [
       "<div>\n",
       "<style scoped>\n",
       "    .dataframe tbody tr th:only-of-type {\n",
       "        vertical-align: middle;\n",
       "    }\n",
       "\n",
       "    .dataframe tbody tr th {\n",
       "        vertical-align: top;\n",
       "    }\n",
       "\n",
       "    .dataframe thead th {\n",
       "        text-align: right;\n",
       "    }\n",
       "</style>\n",
       "<table border=\"1\" class=\"dataframe\">\n",
       "  <thead>\n",
       "    <tr style=\"text-align: right;\">\n",
       "      <th></th>\n",
       "      <th>a</th>\n",
       "      <th>b</th>\n",
       "      <th>c</th>\n",
       "    </tr>\n",
       "  </thead>\n",
       "  <tbody>\n",
       "    <tr>\n",
       "      <td>0</td>\n",
       "      <td>5</td>\n",
       "      <td>7.0</td>\n",
       "      <td>NaN</td>\n",
       "    </tr>\n",
       "    <tr>\n",
       "      <td>1</td>\n",
       "      <td>8</td>\n",
       "      <td>9.0</td>\n",
       "      <td>3.0</td>\n",
       "    </tr>\n",
       "    <tr>\n",
       "      <td>2</td>\n",
       "      <td>2</td>\n",
       "      <td>NaN</td>\n",
       "      <td>2.0</td>\n",
       "    </tr>\n",
       "    <tr>\n",
       "      <td>3</td>\n",
       "      <td>0</td>\n",
       "      <td>1.0</td>\n",
       "      <td>8.0</td>\n",
       "    </tr>\n",
       "  </tbody>\n",
       "</table>\n",
       "</div>"
      ],
      "text/plain": [
       "   a    b    c\n",
       "0  5  7.0  NaN\n",
       "1  8  9.0  3.0\n",
       "2  2  NaN  2.0\n",
       "3  0  1.0  8.0"
      ]
     },
     "execution_count": 32,
     "metadata": {},
     "output_type": "execute_result"
    }
   ],
   "source": [
    "import pandas as pd, numpy as np\n",
    "sample_data = {'a': [5, 8, 2, 0], 'b': [7, 9, np.NaN, 1], 'c': [np.NaN, 3, 2, 8] }\n",
    "df1 = pd.DataFrame(data = sample_data)\n",
    "df1"
   ]
  },
  {
   "cell_type": "code",
   "execution_count": 39,
   "metadata": {},
   "outputs": [
    {
     "data": {
      "text/plain": [
       "['b', 'c']"
      ]
     },
     "execution_count": 39,
     "metadata": {},
     "output_type": "execute_result"
    }
   ],
   "source": [
    "df1.columns[df1.isnull().any()].tolist()"
   ]
  },
  {
   "cell_type": "markdown",
   "metadata": {},
   "source": [
    "### Question 7"
   ]
  },
  {
   "cell_type": "markdown",
   "metadata": {},
   "source": [
    "Select rows in the Dataframe df1 which have no missing values in both column b and c"
   ]
  },
  {
   "cell_type": "code",
   "execution_count": 53,
   "metadata": {},
   "outputs": [
    {
     "data": {
      "text/html": [
       "<div>\n",
       "<style scoped>\n",
       "    .dataframe tbody tr th:only-of-type {\n",
       "        vertical-align: middle;\n",
       "    }\n",
       "\n",
       "    .dataframe tbody tr th {\n",
       "        vertical-align: top;\n",
       "    }\n",
       "\n",
       "    .dataframe thead th {\n",
       "        text-align: right;\n",
       "    }\n",
       "</style>\n",
       "<table border=\"1\" class=\"dataframe\">\n",
       "  <thead>\n",
       "    <tr style=\"text-align: right;\">\n",
       "      <th></th>\n",
       "      <th>a</th>\n",
       "      <th>b</th>\n",
       "      <th>c</th>\n",
       "    </tr>\n",
       "  </thead>\n",
       "  <tbody>\n",
       "    <tr>\n",
       "      <td>0</td>\n",
       "      <td>5</td>\n",
       "      <td>7.0</td>\n",
       "      <td>NaN</td>\n",
       "    </tr>\n",
       "    <tr>\n",
       "      <td>1</td>\n",
       "      <td>8</td>\n",
       "      <td>9.0</td>\n",
       "      <td>3.0</td>\n",
       "    </tr>\n",
       "    <tr>\n",
       "      <td>2</td>\n",
       "      <td>2</td>\n",
       "      <td>NaN</td>\n",
       "      <td>2.0</td>\n",
       "    </tr>\n",
       "    <tr>\n",
       "      <td>3</td>\n",
       "      <td>0</td>\n",
       "      <td>1.0</td>\n",
       "      <td>8.0</td>\n",
       "    </tr>\n",
       "  </tbody>\n",
       "</table>\n",
       "</div>"
      ],
      "text/plain": [
       "   a    b    c\n",
       "0  5  7.0  NaN\n",
       "1  8  9.0  3.0\n",
       "2  2  NaN  2.0\n",
       "3  0  1.0  8.0"
      ]
     },
     "execution_count": 53,
     "metadata": {},
     "output_type": "execute_result"
    }
   ],
   "source": [
    "import pandas as pd, numpy as np\n",
    "sample_data = {'a': [5, 8, 2, 0], 'b': [7, 9, np.NaN, 1], 'c': [np.NaN, 3, 2, 8] }\n",
    "df1 = pd.DataFrame(data = sample_data)\n",
    "df1"
   ]
  },
  {
   "cell_type": "code",
   "execution_count": 71,
   "metadata": {},
   "outputs": [
    {
     "data": {
      "text/html": [
       "<div>\n",
       "<style scoped>\n",
       "    .dataframe tbody tr th:only-of-type {\n",
       "        vertical-align: middle;\n",
       "    }\n",
       "\n",
       "    .dataframe tbody tr th {\n",
       "        vertical-align: top;\n",
       "    }\n",
       "\n",
       "    .dataframe thead th {\n",
       "        text-align: right;\n",
       "    }\n",
       "</style>\n",
       "<table border=\"1\" class=\"dataframe\">\n",
       "  <thead>\n",
       "    <tr style=\"text-align: right;\">\n",
       "      <th></th>\n",
       "      <th>a</th>\n",
       "      <th>b</th>\n",
       "      <th>c</th>\n",
       "    </tr>\n",
       "  </thead>\n",
       "  <tbody>\n",
       "    <tr>\n",
       "      <td>1</td>\n",
       "      <td>8</td>\n",
       "      <td>9.0</td>\n",
       "      <td>3.0</td>\n",
       "    </tr>\n",
       "    <tr>\n",
       "      <td>3</td>\n",
       "      <td>0</td>\n",
       "      <td>1.0</td>\n",
       "      <td>8.0</td>\n",
       "    </tr>\n",
       "  </tbody>\n",
       "</table>\n",
       "</div>"
      ],
      "text/plain": [
       "   a    b    c\n",
       "1  8  9.0  3.0\n",
       "3  0  1.0  8.0"
      ]
     },
     "execution_count": 71,
     "metadata": {},
     "output_type": "execute_result"
    }
   ],
   "source": [
    "df1.dropna(subset = ['b','c'])"
   ]
  },
  {
   "cell_type": "markdown",
   "metadata": {},
   "source": [
    "### Question 8"
   ]
  },
  {
   "cell_type": "markdown",
   "metadata": {},
   "source": [
    "Use the Dataframe df2 and calculate the average Sepal.Length and Sepal.Width of all the instances whose Species are versicolor or virginica"
   ]
  },
  {
   "cell_type": "code",
   "execution_count": 287,
   "metadata": {},
   "outputs": [
    {
     "data": {
      "text/html": [
       "<div>\n",
       "<style scoped>\n",
       "    .dataframe tbody tr th:only-of-type {\n",
       "        vertical-align: middle;\n",
       "    }\n",
       "\n",
       "    .dataframe tbody tr th {\n",
       "        vertical-align: top;\n",
       "    }\n",
       "\n",
       "    .dataframe thead th {\n",
       "        text-align: right;\n",
       "    }\n",
       "</style>\n",
       "<table border=\"1\" class=\"dataframe\">\n",
       "  <thead>\n",
       "    <tr style=\"text-align: right;\">\n",
       "      <th></th>\n",
       "      <th>Sepal.Length</th>\n",
       "      <th>Sepal.Width</th>\n",
       "      <th>Species</th>\n",
       "    </tr>\n",
       "  </thead>\n",
       "  <tbody>\n",
       "    <tr>\n",
       "      <td>1</td>\n",
       "      <td>5.1</td>\n",
       "      <td>3.5</td>\n",
       "      <td>setosa</td>\n",
       "    </tr>\n",
       "    <tr>\n",
       "      <td>2</td>\n",
       "      <td>4.9</td>\n",
       "      <td>3.0</td>\n",
       "      <td>setosa</td>\n",
       "    </tr>\n",
       "    <tr>\n",
       "      <td>3</td>\n",
       "      <td>4.7</td>\n",
       "      <td>3.2</td>\n",
       "      <td>setosa</td>\n",
       "    </tr>\n",
       "    <tr>\n",
       "      <td>4</td>\n",
       "      <td>4.6</td>\n",
       "      <td>3.1</td>\n",
       "      <td>setosa</td>\n",
       "    </tr>\n",
       "    <tr>\n",
       "      <td>5</td>\n",
       "      <td>5.0</td>\n",
       "      <td>3.6</td>\n",
       "      <td>setosa</td>\n",
       "    </tr>\n",
       "    <tr>\n",
       "      <td>6</td>\n",
       "      <td>5.4</td>\n",
       "      <td>3.9</td>\n",
       "      <td>setosa</td>\n",
       "    </tr>\n",
       "    <tr>\n",
       "      <td>7</td>\n",
       "      <td>4.6</td>\n",
       "      <td>3.4</td>\n",
       "      <td>setosa</td>\n",
       "    </tr>\n",
       "    <tr>\n",
       "      <td>8</td>\n",
       "      <td>5.0</td>\n",
       "      <td>3.4</td>\n",
       "      <td>setosa</td>\n",
       "    </tr>\n",
       "    <tr>\n",
       "      <td>9</td>\n",
       "      <td>4.4</td>\n",
       "      <td>2.9</td>\n",
       "      <td>setosa</td>\n",
       "    </tr>\n",
       "    <tr>\n",
       "      <td>10</td>\n",
       "      <td>4.9</td>\n",
       "      <td>3.1</td>\n",
       "      <td>setosa</td>\n",
       "    </tr>\n",
       "  </tbody>\n",
       "</table>\n",
       "</div>"
      ],
      "text/plain": [
       "    Sepal.Length  Sepal.Width Species\n",
       "1            5.1          3.5  setosa\n",
       "2            4.9          3.0  setosa\n",
       "3            4.7          3.2  setosa\n",
       "4            4.6          3.1  setosa\n",
       "5            5.0          3.6  setosa\n",
       "6            5.4          3.9  setosa\n",
       "7            4.6          3.4  setosa\n",
       "8            5.0          3.4  setosa\n",
       "9            4.4          2.9  setosa\n",
       "10           4.9          3.1  setosa"
      ]
     },
     "execution_count": 287,
     "metadata": {},
     "output_type": "execute_result"
    }
   ],
   "source": [
    "from pydataset import data\n",
    "import pandas as pd\n",
    "df2 = data('iris')\n",
    "df2.head()\n",
    "df3 = df2[['Sepal.Length','Sepal.Width','Species']]\n",
    "df3.head(10)"
   ]
  },
  {
   "cell_type": "code",
   "execution_count": 289,
   "metadata": {},
   "outputs": [
    {
     "data": {
      "text/plain": [
       "Sepal.Length    6.262\n",
       "Sepal.Width     2.872\n",
       "dtype: float64"
      ]
     },
     "execution_count": 289,
     "metadata": {},
     "output_type": "execute_result"
    }
   ],
   "source": [
    "arr = ['versicolor','virginica']\n",
    "df3.loc[df3['Species'].isin(arr)].mean()"
   ]
  },
  {
   "cell_type": "markdown",
   "metadata": {},
   "source": [
    "### Question 9"
   ]
  },
  {
   "cell_type": "markdown",
   "metadata": {},
   "source": [
    "For the Dataframe df3, return the names of columns whose data type is 'int64'"
   ]
  },
  {
   "cell_type": "code",
   "execution_count": 172,
   "metadata": {},
   "outputs": [
    {
     "data": {
      "text/html": [
       "<div>\n",
       "<style scoped>\n",
       "    .dataframe tbody tr th:only-of-type {\n",
       "        vertical-align: middle;\n",
       "    }\n",
       "\n",
       "    .dataframe tbody tr th {\n",
       "        vertical-align: top;\n",
       "    }\n",
       "\n",
       "    .dataframe thead th {\n",
       "        text-align: right;\n",
       "    }\n",
       "</style>\n",
       "<table border=\"1\" class=\"dataframe\">\n",
       "  <thead>\n",
       "    <tr style=\"text-align: right;\">\n",
       "      <th></th>\n",
       "      <th>Country</th>\n",
       "      <th>Disp</th>\n",
       "      <th>Disp2</th>\n",
       "      <th>Eng.Rev</th>\n",
       "      <th>Front.Hd</th>\n",
       "      <th>Frt.Leg.Room</th>\n",
       "      <th>Frt.Shld</th>\n",
       "      <th>Gear.Ratio</th>\n",
       "      <th>Gear2</th>\n",
       "      <th>HP</th>\n",
       "      <th>...</th>\n",
       "      <th>Steering</th>\n",
       "      <th>Tank</th>\n",
       "      <th>Tires</th>\n",
       "      <th>Trans1</th>\n",
       "      <th>Trans2</th>\n",
       "      <th>Turning</th>\n",
       "      <th>Type</th>\n",
       "      <th>Weight</th>\n",
       "      <th>Wheel.base</th>\n",
       "      <th>Width</th>\n",
       "    </tr>\n",
       "  </thead>\n",
       "  <tbody>\n",
       "    <tr>\n",
       "      <td>Acura Integra</td>\n",
       "      <td>Japan</td>\n",
       "      <td>112.0</td>\n",
       "      <td>1.8</td>\n",
       "      <td>2935.0</td>\n",
       "      <td>3.5</td>\n",
       "      <td>41.5</td>\n",
       "      <td>53.0</td>\n",
       "      <td>3.26</td>\n",
       "      <td>3.21</td>\n",
       "      <td>130.0</td>\n",
       "      <td>...</td>\n",
       "      <td>power</td>\n",
       "      <td>13.2</td>\n",
       "      <td>195/60</td>\n",
       "      <td>man.5</td>\n",
       "      <td>auto.4</td>\n",
       "      <td>37.0</td>\n",
       "      <td>Small</td>\n",
       "      <td>2700.0</td>\n",
       "      <td>102</td>\n",
       "      <td>67</td>\n",
       "    </tr>\n",
       "    <tr>\n",
       "      <td>Acura Legend</td>\n",
       "      <td>Japan</td>\n",
       "      <td>163.0</td>\n",
       "      <td>2.7</td>\n",
       "      <td>2505.0</td>\n",
       "      <td>2.0</td>\n",
       "      <td>41.5</td>\n",
       "      <td>55.5</td>\n",
       "      <td>2.95</td>\n",
       "      <td>3.02</td>\n",
       "      <td>160.0</td>\n",
       "      <td>...</td>\n",
       "      <td>power</td>\n",
       "      <td>18.0</td>\n",
       "      <td>205/60</td>\n",
       "      <td>man.5</td>\n",
       "      <td>auto.4</td>\n",
       "      <td>42.0</td>\n",
       "      <td>Medium</td>\n",
       "      <td>3265.0</td>\n",
       "      <td>109</td>\n",
       "      <td>69</td>\n",
       "    </tr>\n",
       "    <tr>\n",
       "      <td>Audi 100</td>\n",
       "      <td>Germany</td>\n",
       "      <td>141.0</td>\n",
       "      <td>2.3</td>\n",
       "      <td>2775.0</td>\n",
       "      <td>2.5</td>\n",
       "      <td>41.5</td>\n",
       "      <td>56.5</td>\n",
       "      <td>3.27</td>\n",
       "      <td>3.25</td>\n",
       "      <td>130.0</td>\n",
       "      <td>...</td>\n",
       "      <td>power</td>\n",
       "      <td>21.1</td>\n",
       "      <td>205/60</td>\n",
       "      <td>man.5</td>\n",
       "      <td>auto.3</td>\n",
       "      <td>39.0</td>\n",
       "      <td>Medium</td>\n",
       "      <td>2935.0</td>\n",
       "      <td>106</td>\n",
       "      <td>71</td>\n",
       "    </tr>\n",
       "    <tr>\n",
       "      <td>Audi 80</td>\n",
       "      <td>Germany</td>\n",
       "      <td>121.0</td>\n",
       "      <td>2.0</td>\n",
       "      <td>2835.0</td>\n",
       "      <td>4.0</td>\n",
       "      <td>42.0</td>\n",
       "      <td>52.5</td>\n",
       "      <td>3.25</td>\n",
       "      <td>3.25</td>\n",
       "      <td>108.0</td>\n",
       "      <td>...</td>\n",
       "      <td>power</td>\n",
       "      <td>15.9</td>\n",
       "      <td>175/70</td>\n",
       "      <td>man.5</td>\n",
       "      <td>auto.3</td>\n",
       "      <td>35.0</td>\n",
       "      <td>Compact</td>\n",
       "      <td>2670.0</td>\n",
       "      <td>100</td>\n",
       "      <td>67</td>\n",
       "    </tr>\n",
       "    <tr>\n",
       "      <td>BMW 325i</td>\n",
       "      <td>Germany</td>\n",
       "      <td>152.0</td>\n",
       "      <td>2.5</td>\n",
       "      <td>2625.0</td>\n",
       "      <td>2.0</td>\n",
       "      <td>42.0</td>\n",
       "      <td>52.0</td>\n",
       "      <td>3.02</td>\n",
       "      <td>2.99</td>\n",
       "      <td>168.0</td>\n",
       "      <td>...</td>\n",
       "      <td>power</td>\n",
       "      <td>16.4</td>\n",
       "      <td>195/65</td>\n",
       "      <td>man.5</td>\n",
       "      <td>auto.4</td>\n",
       "      <td>35.0</td>\n",
       "      <td>Compact</td>\n",
       "      <td>2895.0</td>\n",
       "      <td>101</td>\n",
       "      <td>65</td>\n",
       "    </tr>\n",
       "  </tbody>\n",
       "</table>\n",
       "<p>5 rows × 34 columns</p>\n",
       "</div>"
      ],
      "text/plain": [
       "               Country   Disp  Disp2  Eng.Rev  Front.Hd  Frt.Leg.Room  \\\n",
       "Acura Integra    Japan  112.0    1.8   2935.0       3.5          41.5   \n",
       "Acura Legend     Japan  163.0    2.7   2505.0       2.0          41.5   \n",
       "Audi 100       Germany  141.0    2.3   2775.0       2.5          41.5   \n",
       "Audi 80        Germany  121.0    2.0   2835.0       4.0          42.0   \n",
       "BMW 325i       Germany  152.0    2.5   2625.0       2.0          42.0   \n",
       "\n",
       "               Frt.Shld  Gear.Ratio  Gear2     HP  ...  Steering  Tank  \\\n",
       "Acura Integra      53.0        3.26   3.21  130.0  ...     power  13.2   \n",
       "Acura Legend       55.5        2.95   3.02  160.0  ...     power  18.0   \n",
       "Audi 100           56.5        3.27   3.25  130.0  ...     power  21.1   \n",
       "Audi 80            52.5        3.25   3.25  108.0  ...     power  15.9   \n",
       "BMW 325i           52.0        3.02   2.99  168.0  ...     power  16.4   \n",
       "\n",
       "                Tires  Trans1  Trans2 Turning     Type  Weight  Wheel.base  \\\n",
       "Acura Integra  195/60   man.5  auto.4    37.0    Small  2700.0         102   \n",
       "Acura Legend   205/60   man.5  auto.4    42.0   Medium  3265.0         109   \n",
       "Audi 100       205/60   man.5  auto.3    39.0   Medium  2935.0         106   \n",
       "Audi 80        175/70   man.5  auto.3    35.0  Compact  2670.0         100   \n",
       "BMW 325i       195/65   man.5  auto.4    35.0  Compact  2895.0         101   \n",
       "\n",
       "               Width  \n",
       "Acura Integra     67  \n",
       "Acura Legend      69  \n",
       "Audi 100          71  \n",
       "Audi 80           67  \n",
       "BMW 325i          65  \n",
       "\n",
       "[5 rows x 34 columns]"
      ]
     },
     "execution_count": 172,
     "metadata": {},
     "output_type": "execute_result"
    }
   ],
   "source": [
    "from pydataset import data\n",
    "import pandas as pd\n",
    "df3 = data('car90')\n",
    "df3.head()"
   ]
  },
  {
   "cell_type": "code",
   "execution_count": 223,
   "metadata": {},
   "outputs": [
    {
     "data": {
      "text/plain": [
       "Index(['Length', 'Luggage', 'Wheel.base', 'Width'], dtype='object')"
      ]
     },
     "execution_count": 223,
     "metadata": {},
     "output_type": "execute_result"
    }
   ],
   "source": [
    "df3.select_dtypes(include=['int64']).columns"
   ]
  },
  {
   "cell_type": "markdown",
   "metadata": {},
   "source": [
    "### Question 10"
   ]
  },
  {
   "cell_type": "markdown",
   "metadata": {},
   "source": [
    "1) Add a new column 'Size' to the Dataframe df3 which sums up the Height, Length, and Width for each row"
   ]
  },
  {
   "cell_type": "markdown",
   "metadata": {},
   "source": [
    "2) Calculate the summary statistics of the column 'Size', e.g. count, mean, standard deviation, minimum, 1st quartile, median, 3rd quartile, and maximum"
   ]
  },
  {
   "cell_type": "code",
   "execution_count": 224,
   "metadata": {},
   "outputs": [
    {
     "data": {
      "text/html": [
       "<div>\n",
       "<style scoped>\n",
       "    .dataframe tbody tr th:only-of-type {\n",
       "        vertical-align: middle;\n",
       "    }\n",
       "\n",
       "    .dataframe tbody tr th {\n",
       "        vertical-align: top;\n",
       "    }\n",
       "\n",
       "    .dataframe thead th {\n",
       "        text-align: right;\n",
       "    }\n",
       "</style>\n",
       "<table border=\"1\" class=\"dataframe\">\n",
       "  <thead>\n",
       "    <tr style=\"text-align: right;\">\n",
       "      <th></th>\n",
       "      <th>Country</th>\n",
       "      <th>Disp</th>\n",
       "      <th>Disp2</th>\n",
       "      <th>Eng.Rev</th>\n",
       "      <th>Front.Hd</th>\n",
       "      <th>Frt.Leg.Room</th>\n",
       "      <th>Frt.Shld</th>\n",
       "      <th>Gear.Ratio</th>\n",
       "      <th>Gear2</th>\n",
       "      <th>HP</th>\n",
       "      <th>...</th>\n",
       "      <th>Steering</th>\n",
       "      <th>Tank</th>\n",
       "      <th>Tires</th>\n",
       "      <th>Trans1</th>\n",
       "      <th>Trans2</th>\n",
       "      <th>Turning</th>\n",
       "      <th>Type</th>\n",
       "      <th>Weight</th>\n",
       "      <th>Wheel.base</th>\n",
       "      <th>Width</th>\n",
       "    </tr>\n",
       "  </thead>\n",
       "  <tbody>\n",
       "    <tr>\n",
       "      <td>Acura Integra</td>\n",
       "      <td>Japan</td>\n",
       "      <td>112.0</td>\n",
       "      <td>1.8</td>\n",
       "      <td>2935.0</td>\n",
       "      <td>3.5</td>\n",
       "      <td>41.5</td>\n",
       "      <td>53.0</td>\n",
       "      <td>3.26</td>\n",
       "      <td>3.21</td>\n",
       "      <td>130.0</td>\n",
       "      <td>...</td>\n",
       "      <td>power</td>\n",
       "      <td>13.2</td>\n",
       "      <td>195/60</td>\n",
       "      <td>man.5</td>\n",
       "      <td>auto.4</td>\n",
       "      <td>37.0</td>\n",
       "      <td>Small</td>\n",
       "      <td>2700.0</td>\n",
       "      <td>102</td>\n",
       "      <td>67</td>\n",
       "    </tr>\n",
       "    <tr>\n",
       "      <td>Acura Legend</td>\n",
       "      <td>Japan</td>\n",
       "      <td>163.0</td>\n",
       "      <td>2.7</td>\n",
       "      <td>2505.0</td>\n",
       "      <td>2.0</td>\n",
       "      <td>41.5</td>\n",
       "      <td>55.5</td>\n",
       "      <td>2.95</td>\n",
       "      <td>3.02</td>\n",
       "      <td>160.0</td>\n",
       "      <td>...</td>\n",
       "      <td>power</td>\n",
       "      <td>18.0</td>\n",
       "      <td>205/60</td>\n",
       "      <td>man.5</td>\n",
       "      <td>auto.4</td>\n",
       "      <td>42.0</td>\n",
       "      <td>Medium</td>\n",
       "      <td>3265.0</td>\n",
       "      <td>109</td>\n",
       "      <td>69</td>\n",
       "    </tr>\n",
       "    <tr>\n",
       "      <td>Audi 100</td>\n",
       "      <td>Germany</td>\n",
       "      <td>141.0</td>\n",
       "      <td>2.3</td>\n",
       "      <td>2775.0</td>\n",
       "      <td>2.5</td>\n",
       "      <td>41.5</td>\n",
       "      <td>56.5</td>\n",
       "      <td>3.27</td>\n",
       "      <td>3.25</td>\n",
       "      <td>130.0</td>\n",
       "      <td>...</td>\n",
       "      <td>power</td>\n",
       "      <td>21.1</td>\n",
       "      <td>205/60</td>\n",
       "      <td>man.5</td>\n",
       "      <td>auto.3</td>\n",
       "      <td>39.0</td>\n",
       "      <td>Medium</td>\n",
       "      <td>2935.0</td>\n",
       "      <td>106</td>\n",
       "      <td>71</td>\n",
       "    </tr>\n",
       "    <tr>\n",
       "      <td>Audi 80</td>\n",
       "      <td>Germany</td>\n",
       "      <td>121.0</td>\n",
       "      <td>2.0</td>\n",
       "      <td>2835.0</td>\n",
       "      <td>4.0</td>\n",
       "      <td>42.0</td>\n",
       "      <td>52.5</td>\n",
       "      <td>3.25</td>\n",
       "      <td>3.25</td>\n",
       "      <td>108.0</td>\n",
       "      <td>...</td>\n",
       "      <td>power</td>\n",
       "      <td>15.9</td>\n",
       "      <td>175/70</td>\n",
       "      <td>man.5</td>\n",
       "      <td>auto.3</td>\n",
       "      <td>35.0</td>\n",
       "      <td>Compact</td>\n",
       "      <td>2670.0</td>\n",
       "      <td>100</td>\n",
       "      <td>67</td>\n",
       "    </tr>\n",
       "    <tr>\n",
       "      <td>BMW 325i</td>\n",
       "      <td>Germany</td>\n",
       "      <td>152.0</td>\n",
       "      <td>2.5</td>\n",
       "      <td>2625.0</td>\n",
       "      <td>2.0</td>\n",
       "      <td>42.0</td>\n",
       "      <td>52.0</td>\n",
       "      <td>3.02</td>\n",
       "      <td>2.99</td>\n",
       "      <td>168.0</td>\n",
       "      <td>...</td>\n",
       "      <td>power</td>\n",
       "      <td>16.4</td>\n",
       "      <td>195/65</td>\n",
       "      <td>man.5</td>\n",
       "      <td>auto.4</td>\n",
       "      <td>35.0</td>\n",
       "      <td>Compact</td>\n",
       "      <td>2895.0</td>\n",
       "      <td>101</td>\n",
       "      <td>65</td>\n",
       "    </tr>\n",
       "  </tbody>\n",
       "</table>\n",
       "<p>5 rows × 34 columns</p>\n",
       "</div>"
      ],
      "text/plain": [
       "               Country   Disp  Disp2  Eng.Rev  Front.Hd  Frt.Leg.Room  \\\n",
       "Acura Integra    Japan  112.0    1.8   2935.0       3.5          41.5   \n",
       "Acura Legend     Japan  163.0    2.7   2505.0       2.0          41.5   \n",
       "Audi 100       Germany  141.0    2.3   2775.0       2.5          41.5   \n",
       "Audi 80        Germany  121.0    2.0   2835.0       4.0          42.0   \n",
       "BMW 325i       Germany  152.0    2.5   2625.0       2.0          42.0   \n",
       "\n",
       "               Frt.Shld  Gear.Ratio  Gear2     HP  ...  Steering  Tank  \\\n",
       "Acura Integra      53.0        3.26   3.21  130.0  ...     power  13.2   \n",
       "Acura Legend       55.5        2.95   3.02  160.0  ...     power  18.0   \n",
       "Audi 100           56.5        3.27   3.25  130.0  ...     power  21.1   \n",
       "Audi 80            52.5        3.25   3.25  108.0  ...     power  15.9   \n",
       "BMW 325i           52.0        3.02   2.99  168.0  ...     power  16.4   \n",
       "\n",
       "                Tires  Trans1  Trans2 Turning     Type  Weight  Wheel.base  \\\n",
       "Acura Integra  195/60   man.5  auto.4    37.0    Small  2700.0         102   \n",
       "Acura Legend   205/60   man.5  auto.4    42.0   Medium  3265.0         109   \n",
       "Audi 100       205/60   man.5  auto.3    39.0   Medium  2935.0         106   \n",
       "Audi 80        175/70   man.5  auto.3    35.0  Compact  2670.0         100   \n",
       "BMW 325i       195/65   man.5  auto.4    35.0  Compact  2895.0         101   \n",
       "\n",
       "               Width  \n",
       "Acura Integra     67  \n",
       "Acura Legend      69  \n",
       "Audi 100          71  \n",
       "Audi 80           67  \n",
       "BMW 325i          65  \n",
       "\n",
       "[5 rows x 34 columns]"
      ]
     },
     "execution_count": 224,
     "metadata": {},
     "output_type": "execute_result"
    }
   ],
   "source": [
    "from pydataset import data\n",
    "import pandas as pd\n",
    "df3 = data('car90')\n",
    "df3.head()"
   ]
  },
  {
   "cell_type": "code",
   "execution_count": 228,
   "metadata": {},
   "outputs": [
    {
     "name": "stdout",
     "output_type": "stream",
     "text": [
      "Acura Integra              291.5\n",
      "Acura Legend               310.0\n",
      "Audi 100                   315.5\n",
      "Audi 80                    293.5\n",
      "BMW 325i                   289.5\n",
      "BMW 535i                   306.0\n",
      "Buick Century              307.5\n",
      "Buick Electra              319.5\n",
      "Buick Le Sabre             320.0\n",
      "Buick Regal                313.5\n",
      "Buick Riviera              319.5\n",
      "Cadillac Brougham          350.5\n",
      "Cadillac De Ville          330.0\n",
      "Cadillac Eldorado          312.0\n",
      "Cadillac Seville           312.0\n",
      "Chevrolet Astro            322.5\n",
      "Chevrolet Beretta          304.0\n",
      "Chevrolet Camaro           311.5\n",
      "Chevrolet Caprice          339.5\n",
      "Chevrolet Cavalier         295.0\n",
      "Chevrolet Corsica          302.0\n",
      "Chevrolet Corvette         291.5\n",
      "Chevrolet Lumina           320.0\n",
      "Chevrolet Lumina APV       328.0\n",
      "Chrysler Imperial          323.0\n",
      "Chrysler Le Baron          302.0\n",
      "Chrysler Le Baron Coupe    303.0\n",
      "Dodge Caravan              308.5\n",
      "Dodge Colt                 275.0\n",
      "Dodge Daytona              295.0\n",
      "Dodge Dynasty              312.0\n",
      "Dodge Grand Caravan        324.0\n",
      "Dodge Omni                 281.0\n",
      "Dodge Shadow               290.0\n",
      "Dodge Spirit               299.0\n",
      "Eagle Premier              314.0\n",
      "Eagle Summit               285.5\n",
      "Ford Aerostar              313.5\n",
      "Ford Escort                286.5\n",
      "Ford Festiva               256.0\n",
      "Ford LTD Crown Victoria    341.0\n",
      "Ford Mustang               297.0\n",
      "Ford Probe                 292.0\n",
      "Ford Taurus                309.5\n",
      "Ford Tempo                 294.5\n",
      "Ford Thunderbird           321.0\n",
      "GEO Metro                  261.5\n",
      "GEO Prizm                  285.5\n",
      "GEO Storm                  276.5\n",
      "Honda Accord               302.5\n",
      "Honda Civic                284.0\n",
      "Honda Civic CRX            260.0\n",
      "Honda Prelude              292.0\n",
      "Hyundai Excel              281.0\n",
      "Hyundai Sonata             303.5\n",
      "Infiniti Q45               322.5\n",
      "Lexus LS400                319.5\n",
      "Lincoln Continental        328.5\n",
      "Lincoln Mark VII           323.0\n",
      "Lincoln Town Car           351.0\n",
      "Mazda 323                  279.5\n",
      "Mazda 626                  295.5\n",
      "Mazda 929                  313.0\n",
      "Mazda MPV                  309.5\n",
      "Mazda MX-5 Miata           264.5\n",
      "Mazda MX-6                 292.5\n",
      "Mazda Protege              287.0\n",
      "Mazda RX7                  282.5\n",
      "Mercedes-Benz 190          292.5\n",
      "Mercedes-Benz 300E         308.0\n",
      "Mercury Tracer             276.0\n",
      "Mitsubishi Galant          301.5\n",
      "Mitsubishi Precis          274.0\n",
      "Mitsubishi Sigma           302.5\n",
      "Mitsubishi Wagon           307.5\n",
      "Nissan 240SX               291.5\n",
      "Nissan 300ZX               286.0\n",
      "Nissan Axxess              297.0\n",
      "Nissan Maxima              306.5\n",
      "Nissan Pulsar NX           279.0\n",
      "Nissan Sentra              286.0\n",
      "Nissan Stanza              296.5\n",
      "Nissan Van                 310.5\n",
      "Peugeot 405                294.0\n",
      "Peugeot 505                301.0\n",
      "Plymouth Laser             285.0\n",
      "Pontiac Bonneville         321.5\n",
      "Pontiac Grand Am           295.5\n",
      "Pontiac LeMans             288.0\n",
      "Porsche 944                283.0\n",
      "Saab 900                   301.5\n",
      "Saab 9000                  309.0\n",
      "Sterling 827               307.0\n",
      "Subaru Justy               256.5\n",
      "Subaru Legacy              294.0\n",
      "Subaru Loyale              289.0\n",
      "Subaru XT                  291.0\n",
      "Toyota Camry               299.5\n",
      "Toyota Celica              290.0\n",
      "Toyota Corolla             284.5\n",
      "Toyota Cressida            307.5\n",
      "Toyota Supra               297.5\n",
      "Toyota Tercel              280.5\n",
      "Volkswagen Corrado         272.0\n",
      "Volkswagen Fox             275.5\n",
      "Volkswagen GTI             274.5\n",
      "Volkswagen Golf            275.0\n",
      "Volkswagen Jetta           289.0\n",
      "Volkswagen Vanagon         323.5\n",
      "Volvo 240                  309.5\n",
      "Volvo 740                  307.5\n",
      "Name: Size, dtype: float64\n"
     ]
    }
   ],
   "source": [
    "df3['Size'] = df3.apply(lambda row: row['Height'] + row['Length']+ row['Width'], axis=1)\n",
    "print (df3['Size'])"
   ]
  },
  {
   "cell_type": "code",
   "execution_count": 229,
   "metadata": {},
   "outputs": [
    {
     "name": "stdout",
     "output_type": "stream",
     "text": [
      "count    111.000000\n",
      "mean     299.635135\n",
      "std       18.774977\n",
      "min      256.000000\n",
      "25%      286.750000\n",
      "50%      299.000000\n",
      "75%      311.750000\n",
      "max      351.000000\n",
      "Name: Size, dtype: float64\n"
     ]
    }
   ],
   "source": [
    "print (df3['Size'].describe())"
   ]
  },
  {
   "cell_type": "markdown",
   "metadata": {},
   "source": [
    "### Question 11"
   ]
  },
  {
   "cell_type": "markdown",
   "metadata": {},
   "source": [
    "Identify the row index label (i.e. the car model) for the car with the most weight in the Dataframe df3 "
   ]
  },
  {
   "cell_type": "code",
   "execution_count": 230,
   "metadata": {},
   "outputs": [
    {
     "data": {
      "text/html": [
       "<div>\n",
       "<style scoped>\n",
       "    .dataframe tbody tr th:only-of-type {\n",
       "        vertical-align: middle;\n",
       "    }\n",
       "\n",
       "    .dataframe tbody tr th {\n",
       "        vertical-align: top;\n",
       "    }\n",
       "\n",
       "    .dataframe thead th {\n",
       "        text-align: right;\n",
       "    }\n",
       "</style>\n",
       "<table border=\"1\" class=\"dataframe\">\n",
       "  <thead>\n",
       "    <tr style=\"text-align: right;\">\n",
       "      <th></th>\n",
       "      <th>Country</th>\n",
       "      <th>Disp</th>\n",
       "      <th>Disp2</th>\n",
       "      <th>Eng.Rev</th>\n",
       "      <th>Front.Hd</th>\n",
       "      <th>Frt.Leg.Room</th>\n",
       "      <th>Frt.Shld</th>\n",
       "      <th>Gear.Ratio</th>\n",
       "      <th>Gear2</th>\n",
       "      <th>HP</th>\n",
       "      <th>...</th>\n",
       "      <th>Steering</th>\n",
       "      <th>Tank</th>\n",
       "      <th>Tires</th>\n",
       "      <th>Trans1</th>\n",
       "      <th>Trans2</th>\n",
       "      <th>Turning</th>\n",
       "      <th>Type</th>\n",
       "      <th>Weight</th>\n",
       "      <th>Wheel.base</th>\n",
       "      <th>Width</th>\n",
       "    </tr>\n",
       "  </thead>\n",
       "  <tbody>\n",
       "    <tr>\n",
       "      <td>Acura Integra</td>\n",
       "      <td>Japan</td>\n",
       "      <td>112.0</td>\n",
       "      <td>1.8</td>\n",
       "      <td>2935.0</td>\n",
       "      <td>3.5</td>\n",
       "      <td>41.5</td>\n",
       "      <td>53.0</td>\n",
       "      <td>3.26</td>\n",
       "      <td>3.21</td>\n",
       "      <td>130.0</td>\n",
       "      <td>...</td>\n",
       "      <td>power</td>\n",
       "      <td>13.2</td>\n",
       "      <td>195/60</td>\n",
       "      <td>man.5</td>\n",
       "      <td>auto.4</td>\n",
       "      <td>37.0</td>\n",
       "      <td>Small</td>\n",
       "      <td>2700.0</td>\n",
       "      <td>102</td>\n",
       "      <td>67</td>\n",
       "    </tr>\n",
       "    <tr>\n",
       "      <td>Acura Legend</td>\n",
       "      <td>Japan</td>\n",
       "      <td>163.0</td>\n",
       "      <td>2.7</td>\n",
       "      <td>2505.0</td>\n",
       "      <td>2.0</td>\n",
       "      <td>41.5</td>\n",
       "      <td>55.5</td>\n",
       "      <td>2.95</td>\n",
       "      <td>3.02</td>\n",
       "      <td>160.0</td>\n",
       "      <td>...</td>\n",
       "      <td>power</td>\n",
       "      <td>18.0</td>\n",
       "      <td>205/60</td>\n",
       "      <td>man.5</td>\n",
       "      <td>auto.4</td>\n",
       "      <td>42.0</td>\n",
       "      <td>Medium</td>\n",
       "      <td>3265.0</td>\n",
       "      <td>109</td>\n",
       "      <td>69</td>\n",
       "    </tr>\n",
       "    <tr>\n",
       "      <td>Audi 100</td>\n",
       "      <td>Germany</td>\n",
       "      <td>141.0</td>\n",
       "      <td>2.3</td>\n",
       "      <td>2775.0</td>\n",
       "      <td>2.5</td>\n",
       "      <td>41.5</td>\n",
       "      <td>56.5</td>\n",
       "      <td>3.27</td>\n",
       "      <td>3.25</td>\n",
       "      <td>130.0</td>\n",
       "      <td>...</td>\n",
       "      <td>power</td>\n",
       "      <td>21.1</td>\n",
       "      <td>205/60</td>\n",
       "      <td>man.5</td>\n",
       "      <td>auto.3</td>\n",
       "      <td>39.0</td>\n",
       "      <td>Medium</td>\n",
       "      <td>2935.0</td>\n",
       "      <td>106</td>\n",
       "      <td>71</td>\n",
       "    </tr>\n",
       "    <tr>\n",
       "      <td>Audi 80</td>\n",
       "      <td>Germany</td>\n",
       "      <td>121.0</td>\n",
       "      <td>2.0</td>\n",
       "      <td>2835.0</td>\n",
       "      <td>4.0</td>\n",
       "      <td>42.0</td>\n",
       "      <td>52.5</td>\n",
       "      <td>3.25</td>\n",
       "      <td>3.25</td>\n",
       "      <td>108.0</td>\n",
       "      <td>...</td>\n",
       "      <td>power</td>\n",
       "      <td>15.9</td>\n",
       "      <td>175/70</td>\n",
       "      <td>man.5</td>\n",
       "      <td>auto.3</td>\n",
       "      <td>35.0</td>\n",
       "      <td>Compact</td>\n",
       "      <td>2670.0</td>\n",
       "      <td>100</td>\n",
       "      <td>67</td>\n",
       "    </tr>\n",
       "    <tr>\n",
       "      <td>BMW 325i</td>\n",
       "      <td>Germany</td>\n",
       "      <td>152.0</td>\n",
       "      <td>2.5</td>\n",
       "      <td>2625.0</td>\n",
       "      <td>2.0</td>\n",
       "      <td>42.0</td>\n",
       "      <td>52.0</td>\n",
       "      <td>3.02</td>\n",
       "      <td>2.99</td>\n",
       "      <td>168.0</td>\n",
       "      <td>...</td>\n",
       "      <td>power</td>\n",
       "      <td>16.4</td>\n",
       "      <td>195/65</td>\n",
       "      <td>man.5</td>\n",
       "      <td>auto.4</td>\n",
       "      <td>35.0</td>\n",
       "      <td>Compact</td>\n",
       "      <td>2895.0</td>\n",
       "      <td>101</td>\n",
       "      <td>65</td>\n",
       "    </tr>\n",
       "  </tbody>\n",
       "</table>\n",
       "<p>5 rows × 34 columns</p>\n",
       "</div>"
      ],
      "text/plain": [
       "               Country   Disp  Disp2  Eng.Rev  Front.Hd  Frt.Leg.Room  \\\n",
       "Acura Integra    Japan  112.0    1.8   2935.0       3.5          41.5   \n",
       "Acura Legend     Japan  163.0    2.7   2505.0       2.0          41.5   \n",
       "Audi 100       Germany  141.0    2.3   2775.0       2.5          41.5   \n",
       "Audi 80        Germany  121.0    2.0   2835.0       4.0          42.0   \n",
       "BMW 325i       Germany  152.0    2.5   2625.0       2.0          42.0   \n",
       "\n",
       "               Frt.Shld  Gear.Ratio  Gear2     HP  ...  Steering  Tank  \\\n",
       "Acura Integra      53.0        3.26   3.21  130.0  ...     power  13.2   \n",
       "Acura Legend       55.5        2.95   3.02  160.0  ...     power  18.0   \n",
       "Audi 100           56.5        3.27   3.25  130.0  ...     power  21.1   \n",
       "Audi 80            52.5        3.25   3.25  108.0  ...     power  15.9   \n",
       "BMW 325i           52.0        3.02   2.99  168.0  ...     power  16.4   \n",
       "\n",
       "                Tires  Trans1  Trans2 Turning     Type  Weight  Wheel.base  \\\n",
       "Acura Integra  195/60   man.5  auto.4    37.0    Small  2700.0         102   \n",
       "Acura Legend   205/60   man.5  auto.4    42.0   Medium  3265.0         109   \n",
       "Audi 100       205/60   man.5  auto.3    39.0   Medium  2935.0         106   \n",
       "Audi 80        175/70   man.5  auto.3    35.0  Compact  2670.0         100   \n",
       "BMW 325i       195/65   man.5  auto.4    35.0  Compact  2895.0         101   \n",
       "\n",
       "               Width  \n",
       "Acura Integra     67  \n",
       "Acura Legend      69  \n",
       "Audi 100          71  \n",
       "Audi 80           67  \n",
       "BMW 325i          65  \n",
       "\n",
       "[5 rows x 34 columns]"
      ]
     },
     "execution_count": 230,
     "metadata": {},
     "output_type": "execute_result"
    }
   ],
   "source": [
    "from pydataset import data\n",
    "import pandas as pd\n",
    "df3 = data('car90')\n",
    "df3.head()"
   ]
  },
  {
   "cell_type": "code",
   "execution_count": 247,
   "metadata": {},
   "outputs": [
    {
     "data": {
      "text/plain": [
       "'Cadillac Brougham'"
      ]
     },
     "execution_count": 247,
     "metadata": {},
     "output_type": "execute_result"
    }
   ],
   "source": [
    "df3['Weight'].idxmax()"
   ]
  },
  {
   "cell_type": "markdown",
   "metadata": {},
   "source": [
    "### Question 12"
   ]
  },
  {
   "cell_type": "markdown",
   "metadata": {},
   "source": [
    "Create a dictionary dict1 in which each key is an even number in list2 and each value is half of the corresponding key"
   ]
  },
  {
   "cell_type": "code",
   "execution_count": 248,
   "metadata": {},
   "outputs": [
    {
     "data": {
      "text/plain": [
       "array([51, 92, 14, 71, 60, 20, 82, 86, 74, 74, 87, 99, 23,  2, 21, 52,  1,\n",
       "       87, 29, 37])"
      ]
     },
     "execution_count": 248,
     "metadata": {},
     "output_type": "execute_result"
    }
   ],
   "source": [
    "import numpy as np\n",
    "np.random.seed(42)\n",
    "list2 = np.random.randint(0,100,20)\n",
    "list2"
   ]
  },
  {
   "cell_type": "code",
   "execution_count": 299,
   "metadata": {},
   "outputs": [
    {
     "name": "stdout",
     "output_type": "stream",
     "text": [
      "{92: 46.0, 14: 7.0, 60: 30.0, 20: 10.0, 82: 41.0, 86: 43.0, 74: 37.0, 2: 1.0, 52: 26.0}\n"
     ]
    }
   ],
   "source": [
    "dict1 = { i : i/2 for i in list2 if i%2 ==0}\n",
    "print (dict1)"
   ]
  },
  {
   "cell_type": "markdown",
   "metadata": {},
   "source": [
    "### Question 13"
   ]
  },
  {
   "cell_type": "markdown",
   "metadata": {},
   "source": [
    "Replace the missing values in the Dataframe df4 with the average value in each corresponding column"
   ]
  },
  {
   "cell_type": "code",
   "execution_count": 254,
   "metadata": {},
   "outputs": [
    {
     "data": {
      "text/html": [
       "<div>\n",
       "<style scoped>\n",
       "    .dataframe tbody tr th:only-of-type {\n",
       "        vertical-align: middle;\n",
       "    }\n",
       "\n",
       "    .dataframe tbody tr th {\n",
       "        vertical-align: top;\n",
       "    }\n",
       "\n",
       "    .dataframe thead th {\n",
       "        text-align: right;\n",
       "    }\n",
       "</style>\n",
       "<table border=\"1\" class=\"dataframe\">\n",
       "  <thead>\n",
       "    <tr style=\"text-align: right;\">\n",
       "      <th></th>\n",
       "      <th>Category</th>\n",
       "      <th>Value1</th>\n",
       "      <th>Value2</th>\n",
       "      <th>Value3</th>\n",
       "    </tr>\n",
       "  </thead>\n",
       "  <tbody>\n",
       "    <tr>\n",
       "      <td>0</td>\n",
       "      <td>A</td>\n",
       "      <td>NaN</td>\n",
       "      <td>84.0</td>\n",
       "      <td>83.0</td>\n",
       "    </tr>\n",
       "    <tr>\n",
       "      <td>1</td>\n",
       "      <td>B</td>\n",
       "      <td>78.0</td>\n",
       "      <td>NaN</td>\n",
       "      <td>69.0</td>\n",
       "    </tr>\n",
       "    <tr>\n",
       "      <td>2</td>\n",
       "      <td>C</td>\n",
       "      <td>82.0</td>\n",
       "      <td>81.0</td>\n",
       "      <td>73.0</td>\n",
       "    </tr>\n",
       "    <tr>\n",
       "      <td>3</td>\n",
       "      <td>D</td>\n",
       "      <td>72.0</td>\n",
       "      <td>74.0</td>\n",
       "      <td>77.0</td>\n",
       "    </tr>\n",
       "    <tr>\n",
       "      <td>4</td>\n",
       "      <td>A</td>\n",
       "      <td>NaN</td>\n",
       "      <td>68.0</td>\n",
       "      <td>NaN</td>\n",
       "    </tr>\n",
       "    <tr>\n",
       "      <td>5</td>\n",
       "      <td>B</td>\n",
       "      <td>90.0</td>\n",
       "      <td>NaN</td>\n",
       "      <td>90.0</td>\n",
       "    </tr>\n",
       "    <tr>\n",
       "      <td>6</td>\n",
       "      <td>C</td>\n",
       "      <td>NaN</td>\n",
       "      <td>NaN</td>\n",
       "      <td>89.0</td>\n",
       "    </tr>\n",
       "    <tr>\n",
       "      <td>7</td>\n",
       "      <td>D</td>\n",
       "      <td>87.0</td>\n",
       "      <td>91.0</td>\n",
       "      <td>74.0</td>\n",
       "    </tr>\n",
       "  </tbody>\n",
       "</table>\n",
       "</div>"
      ],
      "text/plain": [
       "  Category  Value1  Value2  Value3\n",
       "0        A     NaN    84.0    83.0\n",
       "1        B    78.0     NaN    69.0\n",
       "2        C    82.0    81.0    73.0\n",
       "3        D    72.0    74.0    77.0\n",
       "4        A     NaN    68.0     NaN\n",
       "5        B    90.0     NaN    90.0\n",
       "6        C     NaN     NaN    89.0\n",
       "7        D    87.0    91.0    74.0"
      ]
     },
     "execution_count": 254,
     "metadata": {},
     "output_type": "execute_result"
    }
   ],
   "source": [
    "import pandas as pd, numpy as np\n",
    "sample_data = {'Category': ['A', 'B', 'C', 'D'] * 2\n",
    "               , 'Value1': [np.nan, 78, 82, 72, np.nan, 90, np.nan, 87]\n",
    "               , 'Value2': [84, np.nan, 81, 74, 68, np.nan, np.nan, 91]\n",
    "               , 'Value3': [83, 69, 73, 77, np.nan, 90, 89, 74]\n",
    "              }\n",
    "df4 = pd.DataFrame(data = sample_data)\n",
    "df4"
   ]
  },
  {
   "cell_type": "code",
   "execution_count": 263,
   "metadata": {},
   "outputs": [
    {
     "data": {
      "text/html": [
       "<div>\n",
       "<style scoped>\n",
       "    .dataframe tbody tr th:only-of-type {\n",
       "        vertical-align: middle;\n",
       "    }\n",
       "\n",
       "    .dataframe tbody tr th {\n",
       "        vertical-align: top;\n",
       "    }\n",
       "\n",
       "    .dataframe thead th {\n",
       "        text-align: right;\n",
       "    }\n",
       "</style>\n",
       "<table border=\"1\" class=\"dataframe\">\n",
       "  <thead>\n",
       "    <tr style=\"text-align: right;\">\n",
       "      <th></th>\n",
       "      <th>Category</th>\n",
       "      <th>Value1</th>\n",
       "      <th>Value2</th>\n",
       "      <th>Value3</th>\n",
       "    </tr>\n",
       "  </thead>\n",
       "  <tbody>\n",
       "    <tr>\n",
       "      <td>0</td>\n",
       "      <td>A</td>\n",
       "      <td>81.8</td>\n",
       "      <td>84.0</td>\n",
       "      <td>83.000000</td>\n",
       "    </tr>\n",
       "    <tr>\n",
       "      <td>1</td>\n",
       "      <td>B</td>\n",
       "      <td>78.0</td>\n",
       "      <td>79.6</td>\n",
       "      <td>69.000000</td>\n",
       "    </tr>\n",
       "    <tr>\n",
       "      <td>2</td>\n",
       "      <td>C</td>\n",
       "      <td>82.0</td>\n",
       "      <td>81.0</td>\n",
       "      <td>73.000000</td>\n",
       "    </tr>\n",
       "    <tr>\n",
       "      <td>3</td>\n",
       "      <td>D</td>\n",
       "      <td>72.0</td>\n",
       "      <td>74.0</td>\n",
       "      <td>77.000000</td>\n",
       "    </tr>\n",
       "    <tr>\n",
       "      <td>4</td>\n",
       "      <td>A</td>\n",
       "      <td>81.8</td>\n",
       "      <td>68.0</td>\n",
       "      <td>79.285714</td>\n",
       "    </tr>\n",
       "    <tr>\n",
       "      <td>5</td>\n",
       "      <td>B</td>\n",
       "      <td>90.0</td>\n",
       "      <td>79.6</td>\n",
       "      <td>90.000000</td>\n",
       "    </tr>\n",
       "    <tr>\n",
       "      <td>6</td>\n",
       "      <td>C</td>\n",
       "      <td>81.8</td>\n",
       "      <td>79.6</td>\n",
       "      <td>89.000000</td>\n",
       "    </tr>\n",
       "    <tr>\n",
       "      <td>7</td>\n",
       "      <td>D</td>\n",
       "      <td>87.0</td>\n",
       "      <td>91.0</td>\n",
       "      <td>74.000000</td>\n",
       "    </tr>\n",
       "  </tbody>\n",
       "</table>\n",
       "</div>"
      ],
      "text/plain": [
       "  Category  Value1  Value2     Value3\n",
       "0        A    81.8    84.0  83.000000\n",
       "1        B    78.0    79.6  69.000000\n",
       "2        C    82.0    81.0  73.000000\n",
       "3        D    72.0    74.0  77.000000\n",
       "4        A    81.8    68.0  79.285714\n",
       "5        B    90.0    79.6  90.000000\n",
       "6        C    81.8    79.6  89.000000\n",
       "7        D    87.0    91.0  74.000000"
      ]
     },
     "execution_count": 263,
     "metadata": {},
     "output_type": "execute_result"
    }
   ],
   "source": [
    "df = df4.fillna(df4.mean())\n",
    "df"
   ]
  },
  {
   "cell_type": "code",
   "execution_count": 264,
   "metadata": {},
   "outputs": [
    {
     "data": {
      "text/plain": [
       "79.28571428571428"
      ]
     },
     "execution_count": 264,
     "metadata": {},
     "output_type": "execute_result"
    }
   ],
   "source": [
    "#check\n",
    "df4['Value3'].mean()"
   ]
  },
  {
   "cell_type": "markdown",
   "metadata": {},
   "source": [
    "### Question 14"
   ]
  },
  {
   "cell_type": "markdown",
   "metadata": {},
   "source": [
    "Write a function named isPhoneNumber() to check whether a given string is a phone number with the same pattern as '919-684-2200'. Return True if the patterns match. Otherwise, return False."
   ]
  },
  {
   "cell_type": "code",
   "execution_count": 271,
   "metadata": {},
   "outputs": [
    {
     "name": "stdout",
     "output_type": "stream",
     "text": [
      "True\n",
      "False\n"
     ]
    }
   ],
   "source": [
    "import re\n",
    "def isPhoneNumber(string):\n",
    "    pattern = re.compile(\"^[\\dA-Z]{3}-[\\dA-Z]{3}-[\\dA-Z]{4}$\", re.IGNORECASE)\n",
    "    return pattern.match(string) is not None\n",
    "\n",
    "print (isPhoneNumber(\"919-684-2200\"))\n",
    "print (isPhoneNumber(\"919/684/2200\"))\n",
    "    "
   ]
  },
  {
   "cell_type": "markdown",
   "metadata": {},
   "source": [
    "### Question 15"
   ]
  },
  {
   "cell_type": "markdown",
   "metadata": {},
   "source": [
    "The copy() method is often used to create a copy of a list so that changing the values in the copy doesn't change the values in the original list (see the example as below)."
   ]
  },
  {
   "cell_type": "code",
   "execution_count": 272,
   "metadata": {},
   "outputs": [
    {
     "name": "stdout",
     "output_type": "stream",
     "text": [
      "[0 1 2 3 4]\n",
      "[100   1   2   3   4]\n"
     ]
    }
   ],
   "source": [
    "import numpy as np\n",
    "import copy\n",
    "arr = np.arange(5)\n",
    "arr_copy = copy.copy(arr)\n",
    "arr_copy[0] = 100\n",
    "print(arr)\n",
    "print(arr_copy)"
   ]
  },
  {
   "cell_type": "markdown",
   "metadata": {},
   "source": [
    "However, when the original list is a nested list, the copy() method doesn't function as expected, i.e. changing the values in the copy may change the values in the original list as well (see the example as below)."
   ]
  },
  {
   "cell_type": "code",
   "execution_count": 273,
   "metadata": {},
   "outputs": [
    {
     "name": "stdout",
     "output_type": "stream",
     "text": [
      "[[111, 200, 300], 1, 2, 3, 4]\n",
      "[[111, 200, 300], 1, 2, 3, 4]\n"
     ]
    }
   ],
   "source": [
    "arr = [[100,200,300], 1, 2, 3, 4]\n",
    "arr_copy = copy.copy(arr)\n",
    "arr_copy[0][0] = 111\n",
    "print(arr)\n",
    "print(arr_copy)"
   ]
  },
  {
   "cell_type": "markdown",
   "metadata": {},
   "source": [
    "Finish the following code and create a more *advanced* copy of the original list, so that the values in the original list won't change when we change the values in the copy."
   ]
  },
  {
   "cell_type": "code",
   "execution_count": 277,
   "metadata": {},
   "outputs": [
    {
     "name": "stdout",
     "output_type": "stream",
     "text": [
      "[[100, 200, 300], 1, 2, 3, 4]\n",
      "[[111, 200, 300], 1, 2, 3, 4]\n"
     ]
    }
   ],
   "source": [
    "arr = [[100,200,300], 1, 2, 3, 4]\n",
    "arr_copy = copy.deepcopy(arr)\n",
    "arr_copy[0][0] = 111\n",
    "print(arr)\n",
    "print(arr_copy)"
   ]
  },
  {
   "cell_type": "markdown",
   "metadata": {},
   "source": [
    "## Non-Coding Questions"
   ]
  },
  {
   "cell_type": "markdown",
   "metadata": {},
   "source": [
    "### Question 16"
   ]
  },
  {
   "cell_type": "markdown",
   "metadata": {},
   "source": [
    "What's the main difference between the \"==\" and \"is\" operations?"
   ]
  },
  {
   "cell_type": "code",
   "execution_count": null,
   "metadata": {},
   "outputs": [],
   "source": [
    "# \"==\" checks for equality, it checks whether the values are equal. \"is\" checks for identity, which means that\n",
    "#it checks if the values are same in terms of being the same object in memory"
   ]
  },
  {
   "cell_type": "markdown",
   "metadata": {},
   "source": [
    "### Question 17"
   ]
  },
  {
   "cell_type": "markdown",
   "metadata": {},
   "source": [
    "What's the main difference between the append() and insert() list methods?"
   ]
  },
  {
   "cell_type": "code",
   "execution_count": null,
   "metadata": {},
   "outputs": [],
   "source": [
    "#With append() we can just add a new entry at the end of a list, however with insert() we can add at any position. "
   ]
  },
  {
   "cell_type": "markdown",
   "metadata": {},
   "source": [
    "### Question 18"
   ]
  },
  {
   "cell_type": "markdown",
   "metadata": {},
   "source": [
    "What's the main difference between the pass and continue statements?"
   ]
  },
  {
   "cell_type": "code",
   "execution_count": null,
   "metadata": {},
   "outputs": [],
   "source": [
    "#pass statement does nothing and can be used to create a method which we don't want to implement\n",
    "#continue skips the remaining statements in the loop and moves the control back to top of the loop"
   ]
  },
  {
   "cell_type": "markdown",
   "metadata": {},
   "source": [
    "### Question 19"
   ]
  },
  {
   "cell_type": "markdown",
   "metadata": {},
   "source": [
    "What's the main difference between a list and a dictionary?"
   ]
  },
  {
   "cell_type": "code",
   "execution_count": null,
   "metadata": {},
   "outputs": [],
   "source": [
    "#list is an ordered set of objects which are accessed via their position\n",
    "#dictionary is an unordered set which is accessed by keys"
   ]
  },
  {
   "cell_type": "markdown",
   "metadata": {},
   "source": [
    "### Question 20"
   ]
  },
  {
   "cell_type": "markdown",
   "metadata": {},
   "source": [
    "What's the return value of a call to a function which doesn't have a return statement?"
   ]
  },
  {
   "cell_type": "code",
   "execution_count": null,
   "metadata": {},
   "outputs": [],
   "source": [
    "#the return value will be None"
   ]
  }
 ],
 "metadata": {
  "kernelspec": {
   "display_name": "Python 3",
   "language": "python",
   "name": "python3"
  },
  "language_info": {
   "codemirror_mode": {
    "name": "ipython",
    "version": 3
   },
   "file_extension": ".py",
   "mimetype": "text/x-python",
   "name": "python",
   "nbconvert_exporter": "python",
   "pygments_lexer": "ipython3",
   "version": "3.7.4"
  }
 },
 "nbformat": 4,
 "nbformat_minor": 2
}
